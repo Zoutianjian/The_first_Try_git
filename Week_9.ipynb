{
 "cells": [
  {
   "cell_type": "code",
   "execution_count": 37,
   "metadata": {},
   "outputs": [],
   "source": [
    "import numpy as np\n",
    "c = np.random.randn(3,3)\n",
    "d = np.random.normal(0,1,[2,3,4])\n",
    "quanlianjie_1=np.random.randn(3,3)\n",
    "b1=np.random.rand(1,3)\n",
    "quanlianjie_2=np.random.randn(3,2)\n",
    "X=np.array([22,35,86])\n",
    "Y=np.dot(quanlianjie_2.T,(np.dot(quanlianjie_1,X.T)+b1).reshape(3,1))\n"
   ]
  },
  {
   "cell_type": "code",
   "execution_count": 41,
   "metadata": {},
   "outputs": [
    {
     "name": "stdout",
     "output_type": "stream",
     "text": [
      "tf.Tensor([[4]], shape=(1, 1), dtype=int32)\n"
     ]
    }
   ],
   "source": [
    "import tensorflow as tf\n",
    "import numpy as np\n",
    "# This will be an int32 tensor by default; see \"dtypes\" below.\n",
    "rank_0_tensor = tf.constant([[4]]) #不加括号就会是0维张量\n",
    "print(rank_0_tensor)"
   ]
  },
  {
   "cell_type": "code",
   "execution_count": 42,
   "metadata": {},
   "outputs": [
    {
     "name": "stdout",
     "output_type": "stream",
     "text": [
      "tf.Tensor([2. 3. 4.], shape=(3,), dtype=float32)\n"
     ]
    }
   ],
   "source": [
    "# Let's make this a float tensor.\n",
    "rank_1_tensor = tf.constant([2.0, 3.0, 4.0])\n",
    "print(rank_1_tensor)"
   ]
  },
  {
   "cell_type": "code",
   "execution_count": 43,
   "metadata": {},
   "outputs": [
    {
     "name": "stdout",
     "output_type": "stream",
     "text": [
      "tf.Tensor(\n",
      "[[1. 2.]\n",
      " [3. 4.]\n",
      " [5. 6.]], shape=(3, 2), dtype=float16)\n"
     ]
    }
   ],
   "source": [
    "rank_2_tensor = tf.constant([[1, 2],\n",
    "                             [3, 4],\n",
    "                             [5, 6]], dtype=tf.float16)\n",
    "print(rank_2_tensor)"
   ]
  },
  {
   "cell_type": "code",
   "execution_count": 44,
   "metadata": {},
   "outputs": [
    {
     "name": "stdout",
     "output_type": "stream",
     "text": [
      "tf.Tensor(\n",
      "[[[ 0  1  2  3  4]\n",
      "  [ 5  6  7  8  9]]\n",
      "\n",
      " [[10 11 12 13 14]\n",
      "  [15 16 17 18 19]]\n",
      "\n",
      " [[20 21 22 23 24]\n",
      "  [25 26 27 28 29]]], shape=(3, 2, 5), dtype=int32)\n"
     ]
    }
   ],
   "source": [
    "rank_3_tensor = tf.constant([\n",
    "  [[0, 1, 2, 3, 4],\n",
    "   [5, 6, 7, 8, 9]],\n",
    "  [[10, 11, 12, 13, 14],\n",
    "   [15, 16, 17, 18, 19]],\n",
    "  [[20, 21, 22, 23, 24],\n",
    "   [25, 26, 27, 28, 29]],])\n",
    "                    \n",
    "print(rank_3_tensor)"
   ]
  },
  {
   "cell_type": "code",
   "execution_count": 46,
   "metadata": {},
   "outputs": [
    {
     "name": "stdout",
     "output_type": "stream",
     "text": [
      "tf.Tensor(\n",
      "[[[-0.39389187 -0.15390557  0.21872142 -0.93236267 -0.0139193\n",
      "    0.4370245 ]\n",
      "  [-1.75995974  0.19289489  1.12030367 -0.05633886  0.84569309\n",
      "   -0.59836147]\n",
      "  [-0.6855273  -0.48851085 -0.28642387  0.92876677 -3.32450094\n",
      "   -0.34976974]\n",
      "  [ 0.41760983  0.32994778  1.9371952  -1.00367738  0.40359388\n",
      "    0.84740543]\n",
      "  [-0.29799075 -0.05314055  1.46010108 -1.01659934 -1.07611134\n",
      "   -0.67257631]]\n",
      "\n",
      " [[ 0.04273928 -1.77589657  0.56035459 -0.87562061  1.21739581\n",
      "   -0.04553259]\n",
      "  [ 0.31163146  1.75780004 -0.09297103  1.39827226 -2.11408773\n",
      "    0.44291575]\n",
      "  [ 0.6148668  -1.87244056 -1.97573254  2.2236535  -0.17342473\n",
      "   -0.16308491]\n",
      "  [ 0.75950313 -0.97812966 -1.15580914 -0.33708249  0.64934877\n",
      "    1.16275227]\n",
      "  [ 0.67610025  1.07421221 -0.57428321 -0.1145297  -0.04703879\n",
      "    0.99926951]]\n",
      "\n",
      " [[-0.18312831 -2.38447421  0.22053202 -1.38622148  0.46833287\n",
      "   -1.45430329]\n",
      "  [-0.79820025 -0.19087391 -0.92551113 -0.85317224 -0.37038944\n",
      "    0.31964272]\n",
      "  [ 0.21390393 -1.43466728 -1.2791252   0.04180684 -0.17388084\n",
      "    1.23288136]\n",
      "  [ 0.7039936  -0.04111633 -0.0260382  -0.08568482  0.83635826\n",
      "   -0.80702146]\n",
      "  [-1.55267289  1.11343237 -1.16119603  0.82700269  0.18888739\n",
      "   -0.73769056]]\n",
      "\n",
      " [[ 1.16784099  0.02054202 -0.84491142 -2.2616823   1.40083711\n",
      "    1.68260192]\n",
      "  [-1.86800778  0.21396219  0.98242258 -0.49081586  0.85693581\n",
      "    0.25566653]\n",
      "  [-0.9664307   0.81383568  1.12008108 -0.3241488   1.55607456\n",
      "    0.17068568]\n",
      "  [-1.08629458  1.41210622 -0.70901216 -0.9268178   1.07315949\n",
      "   -1.05630638]\n",
      "  [-0.69118905 -0.41201939 -0.24016098  0.73818535  0.48673718\n",
      "    0.91445651]]], shape=(4, 5, 6), dtype=float64)\n"
     ]
    }
   ],
   "source": [
    "a=np.random.randn(4,4)\n",
    "b=np.random.randn(4,5,6)\n",
    "tensor1=tf.constant(a)\n",
    "tensor2=tf.constant(b)\n",
    "print(tensor2)"
   ]
  },
  {
   "cell_type": "code",
   "execution_count": 50,
   "metadata": {},
   "outputs": [
    {
     "name": "stdout",
     "output_type": "stream",
     "text": [
      "tf.Tensor(4.7182817, shape=(), dtype=float32)\n"
     ]
    }
   ],
   "source": [
    "x = tf.constant(1.0)\n",
    "\n",
    "with tf.GradientTape() as t:\n",
    "    t.watch(x)\n",
    "    z = tf.exp(x)+tf.multiply(x,x)\n",
    "\n",
    "print(t.gradient(z,x))"
   ]
  },
  {
   "cell_type": "code",
   "execution_count": null,
   "metadata": {},
   "outputs": [],
   "source": []
  }
 ],
 "metadata": {
  "kernelspec": {
   "display_name": "Python 3",
   "language": "python",
   "name": "python3"
  },
  "language_info": {
   "codemirror_mode": {
    "name": "ipython",
    "version": 3
   },
   "file_extension": ".py",
   "mimetype": "text/x-python",
   "name": "python",
   "nbconvert_exporter": "python",
   "pygments_lexer": "ipython3",
   "version": "3.7.3"
  }
 },
 "nbformat": 4,
 "nbformat_minor": 4
}
