{
 "cells": [
  {
   "cell_type": "code",
   "execution_count": 26,
   "metadata": {},
   "outputs": [
    {
     "name": "stdout",
     "output_type": "stream",
     "text": [
      "wsp 电子\n",
      "shx 车辆\n",
      "zzy 车辆\n",
      "ztj 车辆\n"
     ]
    }
   ],
   "source": [
    "import os\n",
    "\n",
    "file_path = 'F:\\\\2020-2021秋季学期网络学堂\\大数据与机器智能\\Chap3\\simple_file.txt'\n",
    "info={}\n",
    "info['wsp']='电子'\n",
    "info['shx']='车辆'\n",
    "info['zzy']='车辆'\n",
    "with open(file_path, 'w+') as simple_file:\n",
    "    for key in info.keys():\n",
    "        simple_file.write(key+' '+info[key]+'\\n')\n",
    "        \n",
    "info['ztj']='车辆'\n",
    "key='ztj'\n",
    "    \n",
    "with open(file_path, 'a+') as simple_file:\n",
    "    simple_file.write(key+' '+info[key]+'\\n')\n",
    "        \n",
    "with open(file_path, 'r') as simple_file:        \n",
    "    for line in simple_file:\n",
    "        print(line.strip())"
   ]
  },
  {
   "cell_type": "code",
   "execution_count": 2,
   "metadata": {},
   "outputs": [
    {
     "name": "stdout",
     "output_type": "stream",
     "text": [
      "F:\\2020-2021秋季学期网络学堂\\大数据与机器智能\\Chap3\\number.txt\n",
      "['77', '39', '92', '77', '28', '57', '92', '25', '77', '98', '96', '27', '81', '80', '87', '46', '92', '25', '32', '88']\n"
     ]
    }
   ],
   "source": [
    "import random\n",
    "\n",
    "file_path = 'F:\\\\2020-2021秋季学期网络学堂\\大数据与机器智能\\Chap3\\\\number.txt'\n",
    "print(file_path)\n",
    "with open(file_path, 'w+') as number_file:\n",
    "    for i in range(20):\n",
    "        u=int(random.uniform(20,100))\n",
    "        number_file.write(str(u)) # number_file.write(str(u))\n",
    "        number_file.write(' ') \n",
    "        \n",
    "with open(file_path, 'r') as number_file:\n",
    "    string_1=number_file.read()\n",
    "    \n",
    "num_list=string_1.split()\n",
    "\n",
    "print(num_list)\n",
    "\n",
    "num_list1=[];\n",
    "for item in num_list:\n",
    "    item=int(item)\n",
    "    num_list1.insert(0,item)\n",
    "    \n"
   ]
  },
  {
   "cell_type": "code",
   "execution_count": 30,
   "metadata": {},
   "outputs": [],
   "source": [
    "from tkinter import *\n",
    "\n",
    "def click():\n",
    "    name1 = textbox1.get()\n",
    "    name2 = textbox3.get()\n",
    "    ans=str(int(name1)+int(name2))\n",
    "    message = str('The_Result\\n'+ans)\n",
    "    textbox2[\"bg\"] = \"yellow\"\n",
    "    textbox2[\"fg\"] = \"red\"\n",
    "    textbox2[\"text\"] = message\n",
    "    \n",
    "window = Tk()\n",
    "window.geometry(\"500x200\")\n",
    "\n",
    "label1 = Label(text=\"Enter a:\")\n",
    "label1.place(x=30, y=20)\n",
    "textbox1 = Entry(text=\"\")\n",
    "textbox1.place(x=150, y=20, width=200, height=25)\n",
    "textbox1['justify'] = 'center'\n",
    "textbox1.focus()\n",
    "\n",
    "label3 = Label(text=\"Enter b:\")\n",
    "label3.place(x=30, y=50)\n",
    "textbox3 = Entry(text=\"\")\n",
    "textbox3.place(x=150, y=45, width=200, height=25)\n",
    "textbox3['justify'] = 'center'\n",
    "textbox3.focus()\n",
    "\n",
    "button1 = Button(text='Press me', command=click)\n",
    "button1.place(x=30, y=80, width=120, height=25)\n",
    "\n",
    "textbox2 = Message(text=\"\")\n",
    "textbox2.place(x=150, y=80, width=200, height=50)\n",
    "textbox2[\"bg\"] = \"white\"\n",
    "textbox2[\"fg\"] = \"black\"\n",
    "window.mainloop()"
   ]
  },
  {
   "cell_type": "code",
   "execution_count": 32,
   "metadata": {},
   "outputs": [
    {
     "data": {
      "text/plain": [
       "[1, 3, 4, 6, 8, 9, 10, 11, 15, 16, 24, 34, 35, 45]"
      ]
     },
     "execution_count": 32,
     "metadata": {},
     "output_type": "execute_result"
    }
   ],
   "source": [
    "a=[1,3,4,8,9,11,34,45]\n",
    "b=[6,10,15,16,24,35]\n",
    "\n",
    "def guibing(a,b):\n",
    "    c=[]\n",
    "    i=len(a)\n",
    "    j=len(b)\n",
    "    u=0 \n",
    "    v=0\n",
    "    while u!=i and v!=j:\n",
    "        if(a[u]<b[v]):\n",
    "            c.append(a[u])\n",
    "            u=u+1\n",
    "        else:\n",
    "            c.append(b[v])\n",
    "            v=v+1\n",
    "    if u!=i:\n",
    "        while u!=i:\n",
    "            c.append(a[u])\n",
    "            u=u+1\n",
    "    elif v!=j:\n",
    "        while v!=j:\n",
    "            c.append(b[v])\n",
    "            v=v+1\n",
    "    return c\n",
    "\n",
    "list=guibing(a,b)\n",
    "list"
   ]
  },
  {
   "cell_type": "code",
   "execution_count": null,
   "metadata": {},
   "outputs": [],
   "source": []
  }
 ],
 "metadata": {
  "kernelspec": {
   "display_name": "Python 3",
   "language": "python",
   "name": "python3"
  },
  "language_info": {
   "codemirror_mode": {
    "name": "ipython",
    "version": 3
   },
   "file_extension": ".py",
   "mimetype": "text/x-python",
   "name": "python",
   "nbconvert_exporter": "python",
   "pygments_lexer": "ipython3",
   "version": "3.7.3"
  }
 },
 "nbformat": 4,
 "nbformat_minor": 4
}
