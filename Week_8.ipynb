{
 "cells": [
  {
   "cell_type": "code",
   "execution_count": 40,
   "metadata": {},
   "outputs": [
    {
     "data": {
      "text/html": [
       "<div>\n",
       "<style scoped>\n",
       "    .dataframe tbody tr th:only-of-type {\n",
       "        vertical-align: middle;\n",
       "    }\n",
       "\n",
       "    .dataframe tbody tr th {\n",
       "        vertical-align: top;\n",
       "    }\n",
       "\n",
       "    .dataframe thead th {\n",
       "        text-align: right;\n",
       "    }\n",
       "</style>\n",
       "<table border=\"1\" class=\"dataframe\">\n",
       "  <thead>\n",
       "    <tr style=\"text-align: right;\">\n",
       "      <th></th>\n",
       "      <th>学号</th>\n",
       "      <th>学院</th>\n",
       "    </tr>\n",
       "  </thead>\n",
       "  <tbody>\n",
       "    <tr>\n",
       "      <th>邹天健</th>\n",
       "      <td>2017010870</td>\n",
       "      <td>车辆</td>\n",
       "    </tr>\n",
       "    <tr>\n",
       "      <th>王绍平</th>\n",
       "      <td>2017010807</td>\n",
       "      <td>电子</td>\n",
       "    </tr>\n",
       "    <tr>\n",
       "      <th>周智勇</th>\n",
       "      <td>2017011224</td>\n",
       "      <td>车辆</td>\n",
       "    </tr>\n",
       "  </tbody>\n",
       "</table>\n",
       "</div>"
      ],
      "text/plain": [
       "             学号  学院\n",
       "邹天健  2017010870  车辆\n",
       "王绍平  2017010807  电子\n",
       "周智勇  2017011224  车辆"
      ]
     },
     "execution_count": 40,
     "metadata": {},
     "output_type": "execute_result"
    }
   ],
   "source": [
    "import pandas as pd\n",
    "import numpy as np\n",
    "\n",
    "d = {'学号' : pd.Series(['2017010870','2017010807','2017011224'],index=['邹天健','王绍平','周智勇']),\n",
    "     '学院' : pd.Series(['车辆','电子','车辆'],index=['邹天健','王绍平','周智勇'])}\n",
    "df=pd.DataFrame(d)\n",
    "\n",
    "# df.iloc[0] #通过绝对序列进行选择\n",
    "# df.loc['周智勇'] #通过 index 选择行\n",
    "# df.T #对矩真进行翻转，但是index还是不变\n",
    "df.head()\n",
    "# df['学院'] #会把index和相应列显示出来\n"
   ]
  },
  {
   "cell_type": "code",
   "execution_count": 21,
   "metadata": {},
   "outputs": [],
   "source": [
    "import numpy as np\n",
    "A=[72,94,79,83,65,81,73,67,85,82]\n",
    "array_a=np.array(A)\n",
    "\n",
    "DX=np.mean(array_a*array_a)-np.mean(A)*np.mean(A)\n",
    "MSE=np.mean(array_b*array_b)\n",
    "u= np.mean(array_a)\n",
    "REAL=u\n",
    "array_b=np.array(A)-REAL\n",
    "\n",
    "def MSE(A,REAL):\n",
    "    array_a=np.array(A)-REAL\n",
    "    MSE_1=np.mean(array_a*array_a)\n",
    "    return MSE_1"
   ]
  },
  {
   "cell_type": "code",
   "execution_count": 27,
   "metadata": {},
   "outputs": [
    {
     "data": {
      "text/plain": [
       "0.6931471805599453"
      ]
     },
     "execution_count": 27,
     "metadata": {},
     "output_type": "execute_result"
    }
   ],
   "source": [
    "def jiaochashang(label,output):\n",
    "    array_output=np.log(np.array(output))\n",
    "    array_label=np.array(label)\n",
    "    u=-np.dot(array_output,array_label)\n",
    "    return u\n",
    "\n",
    "A=[1,0]\n",
    "B=[0.9,0.1]\n",
    "A1=[0,1]\n",
    "B1=[0.2,0.8]\n",
    "u=jiaochashang(A,B)\n",
    "u"
   ]
  },
  {
   "cell_type": "code",
   "execution_count": 44,
   "metadata": {
    "scrolled": true
   },
   "outputs": [
    {
     "data": {
      "text/plain": [
       "array([[-1.24109238, -0.0905816 ,  1.07024641,  1.31933728],\n",
       "       [ 1.19391033, -1.26967231,  0.36767429, -0.05513669],\n",
       "       [-0.34359618, -0.09658527,  0.86785057,  1.337008  ],\n",
       "       [ 0.72108517, -0.95044702,  2.13429032,  0.20535449]])"
      ]
     },
     "execution_count": 44,
     "metadata": {},
     "output_type": "execute_result"
    }
   ],
   "source": [
    "A=np.random.randn(4,4)\n",
    "A"
   ]
  },
  {
   "cell_type": "code",
   "execution_count": 53,
   "metadata": {},
   "outputs": [
    {
     "data": {
      "text/plain": [
       "array([[ 15.71825968],\n",
       "       [148.40556219]])"
      ]
     },
     "execution_count": 53,
     "metadata": {},
     "output_type": "execute_result"
    }
   ],
   "source": [
    "A=np.array([22,35,86])\n",
    "A=A.reshape(3,1)\n",
    "B=np.random.randn(2,3)\n",
    "C=np.dot(B,A)\n",
    "C"
   ]
  },
  {
   "cell_type": "code",
   "execution_count": null,
   "metadata": {},
   "outputs": [],
   "source": []
  }
 ],
 "metadata": {
  "kernelspec": {
   "display_name": "Python 3",
   "language": "python",
   "name": "python3"
  },
  "language_info": {
   "codemirror_mode": {
    "name": "ipython",
    "version": 3
   },
   "file_extension": ".py",
   "mimetype": "text/x-python",
   "name": "python",
   "nbconvert_exporter": "python",
   "pygments_lexer": "ipython3",
   "version": "3.7.3"
  }
 },
 "nbformat": 4,
 "nbformat_minor": 4
}
