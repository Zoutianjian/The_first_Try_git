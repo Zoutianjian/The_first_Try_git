{
 "cells": [
  {
   "cell_type": "code",
   "execution_count": 9,
   "metadata": {},
   "outputs": [
    {
     "name": "stdout",
     "output_type": "stream",
     "text": [
      "王绍平电子第一\n"
     ]
    }
   ],
   "source": [
    "dict_wang_shao_ping={'1':'王绍平电子第一',\n",
    "                     '2':'2017010807',\n",
    "                     '3':'415B'}\n",
    "\n",
    "dict_shi_hai_xu={'1':'史海旭车辆第一',\n",
    "                     '2':'2017011224',\n",
    "                     '3':'415B'}\n",
    "a_list=[dict_wang_shao_ping,dict_shi_hai_xu]\n",
    "u=a_list[0]['1']\n",
    "print(u)"
   ]
  },
  {
   "cell_type": "code",
   "execution_count": 7,
   "metadata": {},
   "outputs": [
    {
     "name": "stdout",
     "output_type": "stream",
     "text": [
      "1\n",
      "4\n",
      "9\n",
      "16\n",
      "25\n"
     ]
    }
   ],
   "source": [
    "b=[]\n",
    "a=[1,2,3,4,5]\n",
    "for i in a[0:5]:\n",
    "    b.append(i**2)\n",
    "for item in b:\n",
    "    print(item)"
   ]
  },
  {
   "cell_type": "code",
   "execution_count": 11,
   "metadata": {},
   "outputs": [
    {
     "name": "stdout",
     "output_type": "stream",
     "text": [
      "Hello5\n",
      "Hello5\n"
     ]
    }
   ],
   "source": [
    "def do_something(number):\n",
    "    for i in number:\n",
    "        print(f'Hello{i}')\n",
    "\n",
    "do_something([5])\n",
    "# if __name__=='__main__':\n",
    "#    do_something([5])"
   ]
  },
  {
   "cell_type": "code",
   "execution_count": 27,
   "metadata": {},
   "outputs": [
    {
     "name": "stdout",
     "output_type": "stream",
     "text": [
      "white\n",
      "0\n",
      "white\n",
      "2\n"
     ]
    }
   ],
   "source": [
    "class CAT:\n",
    "    \n",
    "    def __init__(self,color,location):\n",
    "        self.color=color\n",
    "        self.location=location\n",
    "    def jump(self,x):\n",
    "        self.location+=x\n",
    "    def show(self):\n",
    "        print(self.color)\n",
    "        print(self.location)\n",
    "        \n",
    "mycat=CAT('white',0)\n",
    "mycat.show()\n",
    "mycat.jump(2)\n",
    "mycat.show()\n",
    "        "
   ]
  },
  {
   "cell_type": "code",
   "execution_count": 29,
   "metadata": {},
   "outputs": [
    {
     "name": "stdout",
     "output_type": "stream",
     "text": [
      "(3.0, -13.0)\n",
      "(1.0, -6.0)\n",
      "(-2.0, -3.0)\n"
     ]
    }
   ],
   "source": [
    "import math as math\n",
    "def solve_equ(b,c):\n",
    "    val1=b/2.0\n",
    "    val2=val1**2\n",
    "    val3=val2+c\n",
    "    val4=math.sqrt(val3)\n",
    "    root1=val4-val1\n",
    "    root2=-val4-val1\n",
    "    return root1,root2\n",
    "\n",
    "print(solve_equ(10,39))\n",
    "print(solve_equ(5,6))\n",
    "print(solve_equ(5,-6))"
   ]
  },
  {
   "cell_type": "code",
   "execution_count": 8,
   "metadata": {},
   "outputs": [
    {
     "name": "stdout",
     "output_type": "stream",
     "text": [
      "3.141592603589817\n",
      "循环次数：\n",
      "20000000\n"
     ]
    }
   ],
   "source": [
    "import math\n",
    "\n",
    "u=1\n",
    "pi=0\n",
    "while 4/(2*u-1) > math.pow(10,-7):\n",
    "    pi=pi+math.pow(-1,u+1)/(2*u-1)\n",
    "    u=u+1\n",
    "\n",
    "print(4*pi)\n",
    "print('循环次数：')\n",
    "print(u-1)"
   ]
  },
  {
   "cell_type": "code",
   "execution_count": 30,
   "metadata": {},
   "outputs": [
    {
     "name": "stdout",
     "output_type": "stream",
     "text": [
      "3.1415926535897936\n",
      "循环次数：\n",
      "2\n"
     ]
    }
   ],
   "source": [
    "import math\n",
    "\n",
    "u=0\n",
    "pi_1=0 #pi_1就是pi分之1\n",
    "pi_1=pi_1+2*math.sqrt(2)/9801*(26390*u+1103)*math.factorial(4*u)/math.pow(math.factorial(u),4)/math.pow(396,4*u)\n",
    "u=u+1\n",
    "\n",
    "while 1/pi_1-3.14159265358979328 > math.pow(10,-15):\n",
    "    pi_1=pi_1+2*math.sqrt(2)/9801*(26390*u+1103)*math.factorial(4*u)/math.pow(math.factorial(u),4)/math.pow(396,4*u)\n",
    "    u=u+1\n",
    "    \n",
    "\n",
    "print(1/pi_1)\n",
    "print('循环次数：')\n",
    "print(u)"
   ]
  },
  {
   "cell_type": "code",
   "execution_count": 29,
   "metadata": {},
   "outputs": [
    {
     "name": "stdout",
     "output_type": "stream",
     "text": [
      "3.141592653589794\n",
      "循环次数\n",
      "4\n"
     ]
    }
   ],
   "source": [
    "import math\n",
    "u=0\n",
    "an=1\n",
    "an_1=0\n",
    "bn=1/math.sqrt(2)\n",
    "bn_1=0\n",
    "tn=0.25\n",
    "tn_1=0\n",
    "pn=1\n",
    "pn_1=0\n",
    "while an-bn > math.pow(10,-15):\n",
    "    an_1=(an+bn)/2\n",
    "    bn_1=math.sqrt(an*bn)\n",
    "    tn_1=tn-pn*(an-an_1)*(an-an_1)\n",
    "    pn_1=2*pn\n",
    "    u=u+1\n",
    "    \n",
    "    an=an_1\n",
    "    bn=bn_1\n",
    "    tn=tn_1\n",
    "    pn=pn_1\n",
    "\n",
    "pi=(an+bn)*(an+bn)/4/tn\n",
    "print(pi) \n",
    "print('循环次数')\n",
    "print(u)"
   ]
  },
  {
   "cell_type": "code",
   "execution_count": 5,
   "metadata": {
    "scrolled": true
   },
   "outputs": [
    {
     "data": {
      "image/png": "[encoded data removed]",
      "text/plain": [
       "<Figure size 432x288 with 2 Axes>"
      ]
     },
     "metadata": {
      "needs_background": "light"
     },
     "output_type": "display_data"
    }
   ],
   "source": [
    "import pdb\n",
    "import matplotlib.pyplot as plt\n",
    "import numpy as np\n",
    "# print('王绍平世界第一！！！！')\n",
    "# print('王绍平电子系第一')\n",
    "# print('快抱紧王绍平的大腿！！')\n",
    "a = np.arange(0,2*np.pi)\n",
    "b = np.sin(a)\n",
    "c = np.cos(a)\n",
    "plt.subplot(1,2,1)\n",
    "plt.plot(a,b)\n",
    "plt.subplot(1,2,2)\n",
    "plt.plot(a,c)\n",
    "plt.show()"
   ]
  },
  {
   "cell_type": "code",
   "execution_count": null,
   "metadata": {},
   "outputs": [],
   "source": []
  }
 ],
 "metadata": {
  "kernelspec": {
   "display_name": "Python 3",
   "language": "python",
   "name": "python3"
  },
  "language_info": {
   "codemirror_mode": {
    "name": "ipython",
    "version": 3
   },
   "file_extension": ".py",
   "mimetype": "text/x-python",
   "name": "python",
   "nbconvert_exporter": "python",
   "pygments_lexer": "ipython3",
   "version": "3.7.3"
  }
 },
 "nbformat": 4,
 "nbformat_minor": 4
}
