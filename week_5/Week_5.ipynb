{
 "cells": [
  {
   "cell_type": "code",
   "execution_count": 17,
   "metadata": {},
   "outputs": [
    {
     "name": "stdout",
     "output_type": "stream",
     "text": [
      "bucket_number \n",
      "0\n",
      "[5]\n",
      "bucket_number \n",
      "1\n",
      "[3, 8]\n",
      "bucket_number \n",
      "2\n",
      "[1]\n",
      "bucket_number \n",
      "3\n",
      "[9]\n",
      "bucket_number \n",
      "4\n",
      "[7, 2]\n"
     ]
    }
   ],
   "source": [
    "def h1(x):\n",
    "    return (x*7)%5\n",
    "\n",
    "class HashTable:\n",
    "    # init function for our hash table\n",
    "    # h is a function that maps a universe U to range(n)\n",
    "    def __init__(self, h, n):\n",
    "        self.h = h\n",
    "        # store n buckets, each of which has a linked list. \n",
    "        # I'm just going to implement as python arrays.\n",
    "        self.buckets = [ [] for i in range(n) ]\n",
    "        \n",
    "    def insert(self, x):\n",
    "        self.buckets[self.h(x)].append(x)\n",
    "        \n",
    "    # delete an item in the hash table, if it's in there\n",
    "    # returns the deleted item, or None if it wasn't found.\n",
    "    def delete(self,x):\n",
    "        bucket = self.buckets[self.h(x)]\n",
    "        # take time O(n) to look for x in the bucket.\n",
    "        for i in range(len(bucket)):\n",
    "            if bucket[i] == x:\n",
    "                return bucket.pop(i)\n",
    "        return None\n",
    "    \n",
    "    # same as delete, but don't remove it when you find it.\n",
    "    def find(self,x):\n",
    "        bucket = self.buckets[self.h(x)]\n",
    "        # take time O(n) to look for x in the bucket.\n",
    "        for i in range(len(bucket)):\n",
    "            if bucket[i] == x:\n",
    "                return bucket[i]  \n",
    "        return None\n",
    "    \n",
    "    def print_table(self):\n",
    "        u=0\n",
    "        for item in self.buckets:\n",
    "            print('bucket_number ')\n",
    "            print(u)\n",
    "            u=u+1\n",
    "            print(item)\n",
    "        \n",
    "\n",
    "\n",
    "test1=HashTable(h1,5)\n",
    "list1=[7,5,3,4,1,2,8]\n",
    "for item in list1:\n",
    "    test1.insert(item)\n",
    "\n",
    "test1.insert(9)\n",
    "test1.delete(4)\n",
    "u1=test1.find(9)\n",
    "test1.print_table()"
   ]
  },
  {
   "cell_type": "code",
   "execution_count": null,
   "metadata": {},
   "outputs": [],
   "source": []
  }
 ],
 "metadata": {
  "kernelspec": {
   "display_name": "Python 3",
   "language": "python",
   "name": "python3"
  },
  "language_info": {
   "codemirror_mode": {
    "name": "ipython",
    "version": 3
   },
   "file_extension": ".py",
   "mimetype": "text/x-python",
   "name": "python",
   "nbconvert_exporter": "python",
   "pygments_lexer": "ipython3",
   "version": "3.7.3"
  }
 },
 "nbformat": 4,
 "nbformat_minor": 4
}
