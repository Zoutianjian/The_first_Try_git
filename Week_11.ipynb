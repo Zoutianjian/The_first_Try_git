{
 "cells": [
  {
   "cell_type": "code",
   "execution_count": 16,
   "metadata": {},
   "outputs": [
    {
     "name": "stdout",
     "output_type": "stream",
     "text": [
      "Epoch 1/5\n",
      "1875/1875 [==============================] - 4s 2ms/step - loss: 0.3625 - accuracy: 0.8938\n",
      "Epoch 2/5\n",
      "1875/1875 [==============================] - 4s 2ms/step - loss: 0.1976 - accuracy: 0.9415\n",
      "Epoch 3/5\n",
      "1875/1875 [==============================] - 4s 2ms/step - loss: 0.1557 - accuracy: 0.9530\n",
      "Epoch 4/5\n",
      "1875/1875 [==============================] - 4s 2ms/step - loss: 0.1300 - accuracy: 0.9602\n",
      "Epoch 5/5\n",
      "1875/1875 [==============================] - 4s 2ms/step - loss: 0.1138 - accuracy: 0.9649\n",
      "313/313 - 0s - loss: 0.0963 - accuracy: 0.9699\n"
     ]
    },
    {
     "data": {
      "text/plain": [
       "[0.09632591903209686, 0.9699000120162964]"
      ]
     },
     "execution_count": 16,
     "metadata": {},
     "output_type": "execute_result"
    }
   ],
   "source": [
    "import tensorflow as tf\n",
    "from tensorflow import keras\n",
    "import matplotlib.pyplot as plt\n",
    "\n",
    "mnist = tf.keras.datasets.mnist\n",
    "\n",
    "(x_train,y_train),(x_test,y_test) = mnist.load_data()\n",
    "x_train,x_test = x_train /255.0,x_test/255.0 #进行归一化\n",
    "\n",
    "model = tf.keras.models.Sequential()\n",
    "\n",
    "model.add(tf.keras.layers.Flatten(input_shape=(28,28)))\n",
    "model.add(tf.keras.layers.Dense(48,activation='relu'))\n",
    "model.add(tf.keras.layers.Dropout(0.1))\n",
    "model.add(tf.keras.layers.Dense(10,activation='softmax'))\n",
    "\n",
    "model.compile(optimizer='adam',loss='sparse_categorical_crossentropy',metrics=['accuracy'])\n",
    "\n",
    "model.fit(x_train,y_train,epochs=5)\n",
    "\n",
    "model.evaluate(x_test,y_test,verbose=2) #真的非常简单高效!"
   ]
  },
  {
   "cell_type": "code",
   "execution_count": 15,
   "metadata": {},
   "outputs": [
    {
     "name": "stdout",
     "output_type": "stream",
     "text": [
      "My Age is 15 \n",
      "\n",
      "My Age is 15 \n",
      "\n",
      "My Color is black \n",
      "\n",
      "My Age is 15 \n",
      "\n"
     ]
    }
   ],
   "source": [
    "class cat():\n",
    "    def __init__(self,n):\n",
    "        self.age=n\n",
    "    def speak(self):\n",
    "        print('My Age is %d \\n'%self.age)\n",
    "\n",
    "class blackcat(cat):\n",
    "    def __init__(self,n):\n",
    "        self.age=n\n",
    "        self.color='black'\n",
    "    def speak(self):\n",
    "        print('My Age is %d \\n'%self.age)\n",
    "        print('My Color is %s \\n'%self.color)\n",
    "\n",
    "u1=cat(15)\n",
    "u2=blackcat(15)\n",
    "u1.speak()\n",
    "u2.speak()\n",
    "super(blackcat,u2).speak() #子类在super下调用父类的函数(把重载给去掉)"
   ]
  },
  {
   "cell_type": "code",
   "execution_count": 21,
   "metadata": {},
   "outputs": [
    {
     "data": {
      "text/plain": [
       "<tf.Tensor: shape=(4,), dtype=int32, numpy=array([1, 2, 3, 4])>"
      ]
     },
     "execution_count": 21,
     "metadata": {},
     "output_type": "execute_result"
    }
   ],
   "source": [
    "a=tf.constant([[1],[2],[3],[4]])\n",
    "b=tf.constant([1,2,3,4])\n",
    "b"
   ]
  },
  {
   "cell_type": "code",
   "execution_count": null,
   "metadata": {},
   "outputs": [],
   "source": []
  }
 ],
 "metadata": {
  "kernelspec": {
   "display_name": "Python 3",
   "language": "python",
   "name": "python3"
  },
  "language_info": {
   "codemirror_mode": {
    "name": "ipython",
    "version": 3
   },
   "file_extension": ".py",
   "mimetype": "text/x-python",
   "name": "python",
   "nbconvert_exporter": "python",
   "pygments_lexer": "ipython3",
   "version": "3.7.3"
  }
 },
 "nbformat": 4,
 "nbformat_minor": 4
}
