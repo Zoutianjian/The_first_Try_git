{
 "cells": [
  {
   "cell_type": "code",
   "execution_count": 1,
   "metadata": {},
   "outputs": [],
   "source": [
    "import tensorflow as tf\n",
    "from datetime import datetime\n",
    "\n",
    "class Dense1(tf.Module):\n",
    "    def __init__(self,in_features,out_features,name=None):\n",
    "        super().__init__(name=name)\n",
    "        self.w = tf.Variable(tf.random.normal([in_features,out_features]),name='w')\n",
    "        self.b = tf.Variable(tf.zeros([out_features]),name='b')\n",
    "    \n",
    "    def __call__(self,x):\n",
    "        x = tf.reshape(tf.constant(x),[1,(self.w).shape.as_list()[0]]) #j谨记 这里是有些问题的，只有3*3才可以这么用，别的情况需要重新写！\n",
    "          #输入x的reshape请一定注意\n",
    "        y = tf.matmul(x,self.w) + self.b\n",
    "        return tf.nn.sigmoid(y)\n",
    "    \n",
    "# y1=Dense1(3,3) #注意这里仅仅是矩阵\n",
    "# y2=Dense1(3,1)\n",
    "# y3=y2.__call__(y1.__call__([0.0288,-0.3256,0.5925]))"
   ]
  },
  {
   "cell_type": "code",
   "execution_count": 17,
   "metadata": {},
   "outputs": [],
   "source": [
    "import tensorflow as tf\n",
    "from datetime import datetime\n",
    "\n",
    "#%load_ext tensorboard  #画图请一定带上这句话!!否则会找不到函数在哪里，但是似乎运行一次就可以\n",
    "class Dense(tf.Module):\n",
    "    def __init__(self,in_features,out_features,name=None):\n",
    "        super().__init__(name=name)\n",
    "        self.w = tf.constant([[-3.14],[-2.31],[2.16]])\n",
    "        self.b = tf.constant([0.1])\n",
    "        \n",
    "    @tf.function\n",
    "    \n",
    "    def __call__(self,x):\n",
    "        # x = tf.constant(x)\n",
    "        y = tf.matmul(x,self.w) + self.b\n",
    "        return tf.nn.sigmoid(y)\n",
    "    \n",
    "# y1=Dense(3,1) #注意这里仅仅是矩阵\n",
    "# y2=y1(tf.constant([[0.0288,-0.3256,0.5925]]))\n",
    "\n",
    "# chkp_path = \"my_checkpoint\"\n",
    "# checkpoint=tf.train.Checkpoint(model=y1)\n",
    "# checkpoint.write(chkp_path)"
   ]
  },
  {
   "cell_type": "code",
   "execution_count": 11,
   "metadata": {},
   "outputs": [],
   "source": [
    "# tf.train.list_variables(chkp_path)"
   ]
  },
  {
   "cell_type": "code",
   "execution_count": 18,
   "metadata": {
    "scrolled": true
   },
   "outputs": [
    {
     "name": "stdout",
     "output_type": "stream",
     "text": [
      "tf.Tensor([[0.00153142]], shape=(1, 1), dtype=float32)\n"
     ]
    }
   ],
   "source": [
    "# Set up logging.\n",
    "stamp = datetime.now().strftime(\"%Y%m%d-%H%M%S\")\n",
    "logdir = \"logs/func/%s\" % stamp\n",
    "writer = tf.summary.create_file_writer(logdir)\n",
    "\n",
    "# Create a new model to get a fresh trace\n",
    "# Otherwise the summary will not see the graph.\n",
    "new_model = Dense(3,1)\n",
    "\n",
    "# Bracket the function call with\n",
    "# tf.summary.trace_on() and tf.summary.trace_export().\n",
    "tf.summary.trace_on(graph=True, profiler=True)\n",
    "# Call only one tf.function when tracing.\n",
    "z = print(new_model(tf.constant([[2.0, 2.0, 2.0]])))\n",
    "with writer.as_default():\n",
    "    tf.summary.trace_export(\n",
    "      name=\"my_func_trace\",\n",
    "      step=0,\n",
    "      profiler_outdir=logdir)"
   ]
  },
  {
   "cell_type": "code",
   "execution_count": 19,
   "metadata": {
    "scrolled": true
   },
   "outputs": [
    {
     "data": {
      "text/plain": [
       "Reusing TensorBoard on port 6006 (pid 10688), started 0:05:31 ago. (Use '!kill 10688' to kill it.)"
      ]
     },
     "metadata": {},
     "output_type": "display_data"
    },
    {
     "data": {
      "text/html": [
       "\n",
       "      <iframe id=\"tensorboard-frame-bb4ca5fd661a59fd\" width=\"100%\" height=\"800\" frameborder=\"0\">\n",
       "      </iframe>\n",
       "      <script>\n",
       "        (function() {\n",
       "          const frame = document.getElementById(\"tensorboard-frame-bb4ca5fd661a59fd\");\n",
       "          const url = new URL(\"/\", window.location);\n",
       "          const port = 6006;\n",
       "          if (port) {\n",
       "            url.port = port;\n",
       "          }\n",
       "          frame.src = url;\n",
       "        })();\n",
       "      </script>\n",
       "    "
      ],
      "text/plain": [
       "<IPython.core.display.HTML object>"
      ]
     },
     "metadata": {},
     "output_type": "display_data"
    }
   ],
   "source": [
    "#docs_infra: no_execute\n",
    "%tensorboard --logdir logs/func"
   ]
  },
  {
   "cell_type": "code",
   "execution_count": null,
   "metadata": {},
   "outputs": [],
   "source": []
  }
 ],
 "metadata": {
  "kernelspec": {
   "display_name": "Python 3",
   "language": "python",
   "name": "python3"
  },
  "language_info": {
   "codemirror_mode": {
    "name": "ipython",
    "version": 3
   },
   "file_extension": ".py",
   "mimetype": "text/x-python",
   "name": "python",
   "nbconvert_exporter": "python",
   "pygments_lexer": "ipython3",
   "version": "3.7.3"
  }
 },
 "nbformat": 4,
 "nbformat_minor": 4
}
