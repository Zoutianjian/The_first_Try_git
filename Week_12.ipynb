{
 "cells": [
  {
   "cell_type": "code",
   "execution_count": 27,
   "metadata": {},
   "outputs": [
    {
     "name": "stdout",
     "output_type": "stream",
     "text": [
      "tf.Tensor(\n",
      "[[[[20]\n",
      "   [20]\n",
      "   [20]]\n",
      "\n",
      "  [[40]\n",
      "   [40]\n",
      "   [40]]]], shape=(1, 2, 3, 1), dtype=int32)\n"
     ]
    }
   ],
   "source": [
    "import tensorflow as tf\n",
    "u1=tf.constant([[2,2,2,2],[4,4,4,4],[8,8,8,8]])\n",
    "u1=tf.reshape(u1,[1,3,4,1])\n",
    "u2=tf.constant([[1,1],[2,2]])\n",
    "# u2=tf.constant([[[1,3],[1,1]],[[2,3],[2,1]]]) #两个卷积核，最小列表代表着对应位置，第一个卷积核为[[1,1][2,2]]第二个卷积核为[[3,1][3,1]]\n",
    "u2=tf.reshape(u2,[2,2,1,1])\n",
    "# u2=tf.reshape(u2,[2,2,1,2])\n",
    "u3=tf.nn.conv2d(u1,u2,[1,1,1,1],padding='VALID') #结果中两个卷积核的结果是相邻最近的\n",
    "print(u3)"
   ]
  },
  {
   "cell_type": "code",
   "execution_count": 35,
   "metadata": {},
   "outputs": [
    {
     "name": "stdout",
     "output_type": "stream",
     "text": [
      "Epoch 1/5\n",
      "1875/1875 [==============================] - 4s 2ms/step - loss: -53.2190 - accuracy: 0.0846\n",
      "Epoch 2/5\n",
      "1875/1875 [==============================] - 4s 2ms/step - loss: -53.3788 - accuracy: 0.0260\n",
      "Epoch 3/5\n",
      "1875/1875 [==============================] - 4s 2ms/step - loss: -53.4207 - accuracy: 0.0316\n",
      "Epoch 4/5\n",
      "1875/1875 [==============================] - 4s 2ms/step - loss: -53.4729 - accuracy: 0.0870\n",
      "Epoch 5/5\n",
      "1875/1875 [==============================] - 4s 2ms/step - loss: -53.4751 - accuracy: 0.0418\n",
      "313/313 - 0s - loss: -5.3428e+01 - accuracy: 0.0456\n",
      "\n",
      "Test accuracy 0.04560000076889992\n"
     ]
    }
   ],
   "source": [
    "from tensorflow import keras\n",
    "fashion_mnist = keras.datasets.fashion_mnist\n",
    "\n",
    "(train_images,train_labels),(test_images,test_labels) = fashion_mnist.load_data()\n",
    "\n",
    "train_images = train_images/255.0\n",
    "test_images = test_images/255.0\n",
    "model = keras.Sequential([\n",
    "    keras.layers.Flatten(input_shape=(28,28)),\n",
    "    keras.layers.Dense(128,activation='relu'),\n",
    "    keras.layers.Dense(10)\n",
    "])\n",
    "model.compile(optimizer='rmsprop', loss='binary_crossentropy', metrics=['accuracy'])\n",
    "model.fit(train_images,train_labels,epochs=5)\n",
    "\n",
    "(test_loss,test_acc) = model.evaluate(test_images, test_labels, verbose=2)\n",
    "print('\\nTest accuracy',test_acc)\n",
    "# 这组训练好像比较失败.....应该是有参数给的不太对"
   ]
  },
  {
   "cell_type": "code",
   "execution_count": null,
   "metadata": {},
   "outputs": [],
   "source": []
  }
 ],
 "metadata": {
  "kernelspec": {
   "display_name": "Python 3",
   "language": "python",
   "name": "python3"
  },
  "language_info": {
   "codemirror_mode": {
    "name": "ipython",
    "version": 3
   },
   "file_extension": ".py",
   "mimetype": "text/x-python",
   "name": "python",
   "nbconvert_exporter": "python",
   "pygments_lexer": "ipython3",
   "version": "3.7.3"
  }
 },
 "nbformat": 4,
 "nbformat_minor": 4
}
